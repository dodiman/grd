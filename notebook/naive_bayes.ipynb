{
 "cells": [
  {
   "cell_type": "code",
   "execution_count": 99,
   "id": "5bf67fa0",
   "metadata": {},
   "outputs": [],
   "source": [
    "import numpy as np\n",
    "import pandas as pd\n",
    "from sklearn import preprocessing\n",
    "from sklearn.naive_bayes import GaussianNB"
   ]
  },
  {
   "cell_type": "code",
   "execution_count": 3,
   "id": "79c6aea1",
   "metadata": {},
   "outputs": [],
   "source": [
    "from sklearn.model_selection import train_test_split"
   ]
  },
  {
   "cell_type": "code",
   "execution_count": 104,
   "id": "ec3df1b4",
   "metadata": {},
   "outputs": [],
   "source": [
    "# mydata\n",
    "path = \"mydata.xlsx\"\n",
    "data = pd.read_excel(path)"
   ]
  },
  {
   "cell_type": "code",
   "execution_count": 105,
   "id": "a1ac0226",
   "metadata": {},
   "outputs": [],
   "source": [
    "mydata = data.copy()"
   ]
  },
  {
   "cell_type": "code",
   "execution_count": 107,
   "id": "c735eb25",
   "metadata": {},
   "outputs": [
    {
     "data": {
      "text/html": [
       "<div>\n",
       "<style scoped>\n",
       "    .dataframe tbody tr th:only-of-type {\n",
       "        vertical-align: middle;\n",
       "    }\n",
       "\n",
       "    .dataframe tbody tr th {\n",
       "        vertical-align: top;\n",
       "    }\n",
       "\n",
       "    .dataframe thead th {\n",
       "        text-align: right;\n",
       "    }\n",
       "</style>\n",
       "<table border=\"1\" class=\"dataframe\">\n",
       "  <thead>\n",
       "    <tr style=\"text-align: right;\">\n",
       "      <th></th>\n",
       "      <th>id</th>\n",
       "      <th>kategori_satu</th>\n",
       "      <th>kategori_dua</th>\n",
       "      <th>kategori_tiga</th>\n",
       "      <th>kategori_empat</th>\n",
       "      <th>target</th>\n",
       "    </tr>\n",
       "  </thead>\n",
       "  <tbody>\n",
       "    <tr>\n",
       "      <th>0</th>\n",
       "      <td>1</td>\n",
       "      <td>lulus</td>\n",
       "      <td>tinggi</td>\n",
       "      <td>besar</td>\n",
       "      <td>panjang</td>\n",
       "      <td>bagus</td>\n",
       "    </tr>\n",
       "    <tr>\n",
       "      <th>1</th>\n",
       "      <td>2</td>\n",
       "      <td>tidak_lulus</td>\n",
       "      <td>rendah</td>\n",
       "      <td>kecil</td>\n",
       "      <td>pendek</td>\n",
       "      <td>tidak</td>\n",
       "    </tr>\n",
       "    <tr>\n",
       "      <th>2</th>\n",
       "      <td>3</td>\n",
       "      <td>tidak_lulus</td>\n",
       "      <td>sedang</td>\n",
       "      <td>sedang</td>\n",
       "      <td>sedang</td>\n",
       "      <td>bagus</td>\n",
       "    </tr>\n",
       "    <tr>\n",
       "      <th>3</th>\n",
       "      <td>4</td>\n",
       "      <td>tidak_lulus</td>\n",
       "      <td>tinggi</td>\n",
       "      <td>sedang</td>\n",
       "      <td>panjang</td>\n",
       "      <td>netral</td>\n",
       "    </tr>\n",
       "    <tr>\n",
       "      <th>4</th>\n",
       "      <td>5</td>\n",
       "      <td>lulus</td>\n",
       "      <td>tinggi</td>\n",
       "      <td>besar</td>\n",
       "      <td>panjang</td>\n",
       "      <td>bagus</td>\n",
       "    </tr>\n",
       "    <tr>\n",
       "      <th>5</th>\n",
       "      <td>6</td>\n",
       "      <td>tidak_lulus</td>\n",
       "      <td>rendah</td>\n",
       "      <td>kecil</td>\n",
       "      <td>sedang</td>\n",
       "      <td>tidak</td>\n",
       "    </tr>\n",
       "    <tr>\n",
       "      <th>6</th>\n",
       "      <td>7</td>\n",
       "      <td>tidak_lulus</td>\n",
       "      <td>rendah</td>\n",
       "      <td>kecil</td>\n",
       "      <td>panjang</td>\n",
       "      <td>netral</td>\n",
       "    </tr>\n",
       "    <tr>\n",
       "      <th>7</th>\n",
       "      <td>8</td>\n",
       "      <td>lulus</td>\n",
       "      <td>rendah</td>\n",
       "      <td>kecil</td>\n",
       "      <td>sedang</td>\n",
       "      <td>netral</td>\n",
       "    </tr>\n",
       "    <tr>\n",
       "      <th>8</th>\n",
       "      <td>9</td>\n",
       "      <td>tidak_lulus</td>\n",
       "      <td>tinggi</td>\n",
       "      <td>sedang</td>\n",
       "      <td>panjang</td>\n",
       "      <td>bagus</td>\n",
       "    </tr>\n",
       "    <tr>\n",
       "      <th>9</th>\n",
       "      <td>10</td>\n",
       "      <td>lulus</td>\n",
       "      <td>rendah</td>\n",
       "      <td>kecil</td>\n",
       "      <td>pendek</td>\n",
       "      <td>bagus</td>\n",
       "    </tr>\n",
       "  </tbody>\n",
       "</table>\n",
       "</div>"
      ],
      "text/plain": [
       "   id  kategori_satu kategori_dua kategori_tiga kategori_empat  target\n",
       "0    1         lulus       tinggi         besar        panjang   bagus\n",
       "1    2   tidak_lulus       rendah         kecil         pendek   tidak\n",
       "2    3   tidak_lulus       sedang        sedang         sedang   bagus\n",
       "3    4   tidak_lulus       tinggi        sedang        panjang  netral\n",
       "4    5         lulus       tinggi         besar        panjang   bagus\n",
       "5    6   tidak_lulus       rendah         kecil         sedang   tidak\n",
       "6    7   tidak_lulus       rendah         kecil        panjang  netral\n",
       "7    8         lulus       rendah         kecil         sedang  netral\n",
       "8    9   tidak_lulus       tinggi        sedang        panjang   bagus\n",
       "9   10         lulus       rendah         kecil         pendek   bagus"
      ]
     },
     "execution_count": 107,
     "metadata": {},
     "output_type": "execute_result"
    }
   ],
   "source": [
    "mydata"
   ]
  },
  {
   "cell_type": "code",
   "execution_count": null,
   "id": "942d37d4",
   "metadata": {},
   "outputs": [],
   "source": [
    "mydata.append(mydata2, ignore_index=True)"
   ]
  },
  {
   "cell_type": "markdown",
   "id": "fd7f1dca",
   "metadata": {},
   "source": [
    "<h2>pembagian data</h2>"
   ]
  },
  {
   "cell_type": "code",
   "execution_count": 110,
   "id": "35f25fe1",
   "metadata": {},
   "outputs": [],
   "source": [
    "data_training = mydata.iloc[:, :-1]"
   ]
  },
  {
   "cell_type": "code",
   "execution_count": 111,
   "id": "19bc4bef",
   "metadata": {},
   "outputs": [],
   "source": [
    "data_target = mydata.iloc[:, -1]"
   ]
  },
  {
   "cell_type": "code",
   "execution_count": 112,
   "id": "9e18a017",
   "metadata": {},
   "outputs": [],
   "source": [
    "data_test = data_training.iloc[1, :].values"
   ]
  },
  {
   "cell_type": "code",
   "execution_count": 120,
   "id": "76079fa4",
   "metadata": {},
   "outputs": [],
   "source": [
    "# menggabungkan data array masuk ke dataframe pandas\n",
    "data_gabung = data_training.copy()\n",
    "data_gabung.loc[len(data_gabung)] = data_test"
   ]
  },
  {
   "cell_type": "code",
   "execution_count": 121,
   "id": "8ea67125",
   "metadata": {},
   "outputs": [
    {
     "data": {
      "text/html": [
       "<div>\n",
       "<style scoped>\n",
       "    .dataframe tbody tr th:only-of-type {\n",
       "        vertical-align: middle;\n",
       "    }\n",
       "\n",
       "    .dataframe tbody tr th {\n",
       "        vertical-align: top;\n",
       "    }\n",
       "\n",
       "    .dataframe thead th {\n",
       "        text-align: right;\n",
       "    }\n",
       "</style>\n",
       "<table border=\"1\" class=\"dataframe\">\n",
       "  <thead>\n",
       "    <tr style=\"text-align: right;\">\n",
       "      <th></th>\n",
       "      <th>id</th>\n",
       "      <th>kategori_satu</th>\n",
       "      <th>kategori_dua</th>\n",
       "      <th>kategori_tiga</th>\n",
       "      <th>kategori_empat</th>\n",
       "    </tr>\n",
       "  </thead>\n",
       "  <tbody>\n",
       "    <tr>\n",
       "      <th>0</th>\n",
       "      <td>1</td>\n",
       "      <td>lulus</td>\n",
       "      <td>tinggi</td>\n",
       "      <td>besar</td>\n",
       "      <td>panjang</td>\n",
       "    </tr>\n",
       "    <tr>\n",
       "      <th>1</th>\n",
       "      <td>2</td>\n",
       "      <td>tidak_lulus</td>\n",
       "      <td>rendah</td>\n",
       "      <td>kecil</td>\n",
       "      <td>pendek</td>\n",
       "    </tr>\n",
       "    <tr>\n",
       "      <th>2</th>\n",
       "      <td>3</td>\n",
       "      <td>tidak_lulus</td>\n",
       "      <td>sedang</td>\n",
       "      <td>sedang</td>\n",
       "      <td>sedang</td>\n",
       "    </tr>\n",
       "    <tr>\n",
       "      <th>3</th>\n",
       "      <td>4</td>\n",
       "      <td>tidak_lulus</td>\n",
       "      <td>tinggi</td>\n",
       "      <td>sedang</td>\n",
       "      <td>panjang</td>\n",
       "    </tr>\n",
       "    <tr>\n",
       "      <th>4</th>\n",
       "      <td>5</td>\n",
       "      <td>lulus</td>\n",
       "      <td>tinggi</td>\n",
       "      <td>besar</td>\n",
       "      <td>panjang</td>\n",
       "    </tr>\n",
       "    <tr>\n",
       "      <th>5</th>\n",
       "      <td>6</td>\n",
       "      <td>tidak_lulus</td>\n",
       "      <td>rendah</td>\n",
       "      <td>kecil</td>\n",
       "      <td>sedang</td>\n",
       "    </tr>\n",
       "    <tr>\n",
       "      <th>6</th>\n",
       "      <td>7</td>\n",
       "      <td>tidak_lulus</td>\n",
       "      <td>rendah</td>\n",
       "      <td>kecil</td>\n",
       "      <td>panjang</td>\n",
       "    </tr>\n",
       "    <tr>\n",
       "      <th>7</th>\n",
       "      <td>8</td>\n",
       "      <td>lulus</td>\n",
       "      <td>rendah</td>\n",
       "      <td>kecil</td>\n",
       "      <td>sedang</td>\n",
       "    </tr>\n",
       "    <tr>\n",
       "      <th>8</th>\n",
       "      <td>9</td>\n",
       "      <td>tidak_lulus</td>\n",
       "      <td>tinggi</td>\n",
       "      <td>sedang</td>\n",
       "      <td>panjang</td>\n",
       "    </tr>\n",
       "    <tr>\n",
       "      <th>9</th>\n",
       "      <td>10</td>\n",
       "      <td>lulus</td>\n",
       "      <td>rendah</td>\n",
       "      <td>kecil</td>\n",
       "      <td>pendek</td>\n",
       "    </tr>\n",
       "    <tr>\n",
       "      <th>10</th>\n",
       "      <td>2</td>\n",
       "      <td>tidak_lulus</td>\n",
       "      <td>rendah</td>\n",
       "      <td>kecil</td>\n",
       "      <td>pendek</td>\n",
       "    </tr>\n",
       "  </tbody>\n",
       "</table>\n",
       "</div>"
      ],
      "text/plain": [
       "    id  kategori_satu kategori_dua kategori_tiga kategori_empat\n",
       "0     1         lulus       tinggi         besar        panjang\n",
       "1     2   tidak_lulus       rendah         kecil         pendek\n",
       "2     3   tidak_lulus       sedang        sedang         sedang\n",
       "3     4   tidak_lulus       tinggi        sedang        panjang\n",
       "4     5         lulus       tinggi         besar        panjang\n",
       "5     6   tidak_lulus       rendah         kecil         sedang\n",
       "6     7   tidak_lulus       rendah         kecil        panjang\n",
       "7     8         lulus       rendah         kecil         sedang\n",
       "8     9   tidak_lulus       tinggi        sedang        panjang\n",
       "9    10         lulus       rendah         kecil         pendek\n",
       "10    2   tidak_lulus       rendah         kecil         pendek"
      ]
     },
     "execution_count": 121,
     "metadata": {},
     "output_type": "execute_result"
    }
   ],
   "source": [
    "data_gabung"
   ]
  },
  {
   "cell_type": "code",
   "execution_count": 122,
   "id": "73c98352",
   "metadata": {},
   "outputs": [
    {
     "data": {
      "text/html": [
       "<div>\n",
       "<style scoped>\n",
       "    .dataframe tbody tr th:only-of-type {\n",
       "        vertical-align: middle;\n",
       "    }\n",
       "\n",
       "    .dataframe tbody tr th {\n",
       "        vertical-align: top;\n",
       "    }\n",
       "\n",
       "    .dataframe thead th {\n",
       "        text-align: right;\n",
       "    }\n",
       "</style>\n",
       "<table border=\"1\" class=\"dataframe\">\n",
       "  <thead>\n",
       "    <tr style=\"text-align: right;\">\n",
       "      <th></th>\n",
       "      <th>id</th>\n",
       "      <th>kategori_satu</th>\n",
       "      <th>kategori_dua</th>\n",
       "      <th>kategori_tiga</th>\n",
       "      <th>kategori_empat</th>\n",
       "    </tr>\n",
       "  </thead>\n",
       "  <tbody>\n",
       "    <tr>\n",
       "      <th>0</th>\n",
       "      <td>0</td>\n",
       "      <td>0</td>\n",
       "      <td>2</td>\n",
       "      <td>0</td>\n",
       "      <td>0</td>\n",
       "    </tr>\n",
       "    <tr>\n",
       "      <th>1</th>\n",
       "      <td>1</td>\n",
       "      <td>1</td>\n",
       "      <td>0</td>\n",
       "      <td>1</td>\n",
       "      <td>1</td>\n",
       "    </tr>\n",
       "    <tr>\n",
       "      <th>2</th>\n",
       "      <td>2</td>\n",
       "      <td>1</td>\n",
       "      <td>1</td>\n",
       "      <td>2</td>\n",
       "      <td>2</td>\n",
       "    </tr>\n",
       "    <tr>\n",
       "      <th>3</th>\n",
       "      <td>3</td>\n",
       "      <td>1</td>\n",
       "      <td>2</td>\n",
       "      <td>2</td>\n",
       "      <td>0</td>\n",
       "    </tr>\n",
       "    <tr>\n",
       "      <th>4</th>\n",
       "      <td>4</td>\n",
       "      <td>0</td>\n",
       "      <td>2</td>\n",
       "      <td>0</td>\n",
       "      <td>0</td>\n",
       "    </tr>\n",
       "    <tr>\n",
       "      <th>5</th>\n",
       "      <td>5</td>\n",
       "      <td>1</td>\n",
       "      <td>0</td>\n",
       "      <td>1</td>\n",
       "      <td>2</td>\n",
       "    </tr>\n",
       "    <tr>\n",
       "      <th>6</th>\n",
       "      <td>6</td>\n",
       "      <td>1</td>\n",
       "      <td>0</td>\n",
       "      <td>1</td>\n",
       "      <td>0</td>\n",
       "    </tr>\n",
       "    <tr>\n",
       "      <th>7</th>\n",
       "      <td>7</td>\n",
       "      <td>0</td>\n",
       "      <td>0</td>\n",
       "      <td>1</td>\n",
       "      <td>2</td>\n",
       "    </tr>\n",
       "    <tr>\n",
       "      <th>8</th>\n",
       "      <td>8</td>\n",
       "      <td>1</td>\n",
       "      <td>2</td>\n",
       "      <td>2</td>\n",
       "      <td>0</td>\n",
       "    </tr>\n",
       "    <tr>\n",
       "      <th>9</th>\n",
       "      <td>9</td>\n",
       "      <td>0</td>\n",
       "      <td>0</td>\n",
       "      <td>1</td>\n",
       "      <td>1</td>\n",
       "    </tr>\n",
       "    <tr>\n",
       "      <th>10</th>\n",
       "      <td>1</td>\n",
       "      <td>1</td>\n",
       "      <td>0</td>\n",
       "      <td>1</td>\n",
       "      <td>1</td>\n",
       "    </tr>\n",
       "  </tbody>\n",
       "</table>\n",
       "</div>"
      ],
      "text/plain": [
       "    id   kategori_satu  kategori_dua  kategori_tiga  kategori_empat\n",
       "0     0              0             2              0               0\n",
       "1     1              1             0              1               1\n",
       "2     2              1             1              2               2\n",
       "3     3              1             2              2               0\n",
       "4     4              0             2              0               0\n",
       "5     5              1             0              1               2\n",
       "6     6              1             0              1               0\n",
       "7     7              0             0              1               2\n",
       "8     8              1             2              2               0\n",
       "9     9              0             0              1               1\n",
       "10    1              1             0              1               1"
      ]
     },
     "execution_count": 122,
     "metadata": {},
     "output_type": "execute_result"
    }
   ],
   "source": [
    "data_gabung = data_gabung.apply(preprocessing.LabelEncoder().fit_transform)\n",
    "data_gabung"
   ]
  },
  {
   "cell_type": "code",
   "execution_count": 134,
   "id": "c231c345",
   "metadata": {},
   "outputs": [],
   "source": [
    "data_test1 = data_gabung.iloc[-1, :]"
   ]
  },
  {
   "cell_type": "code",
   "execution_count": 128,
   "id": "5d421e2b",
   "metadata": {},
   "outputs": [],
   "source": [
    "x = data_gabung.iloc[:-1, :]\n",
    "y = data_target"
   ]
  },
  {
   "cell_type": "code",
   "execution_count": 129,
   "id": "98cd114b",
   "metadata": {},
   "outputs": [
    {
     "data": {
      "text/plain": [
       "GaussianNB()"
      ]
     },
     "execution_count": 129,
     "metadata": {},
     "output_type": "execute_result"
    }
   ],
   "source": [
    "model = GaussianNB()\n",
    "model.fit(x,y)"
   ]
  },
  {
   "cell_type": "code",
   "execution_count": 137,
   "id": "e73d4624",
   "metadata": {},
   "outputs": [
    {
     "data": {
      "text/plain": [
       "array(['tidak'], dtype='<U6')"
      ]
     },
     "execution_count": 137,
     "metadata": {},
     "output_type": "execute_result"
    }
   ],
   "source": [
    "model.predict([data_test1])"
   ]
  },
  {
   "cell_type": "code",
   "execution_count": 143,
   "id": "3c484af3",
   "metadata": {},
   "outputs": [
    {
     "data": {
      "text/plain": [
       "array(['tidak'], dtype='<U6')"
      ]
     },
     "execution_count": 143,
     "metadata": {},
     "output_type": "execute_result"
    }
   ],
   "source": [
    "model.predict(data_test1.values.reshape(1,-1))"
   ]
  },
  {
   "cell_type": "code",
   "execution_count": 138,
   "id": "ddc74fb8",
   "metadata": {},
   "outputs": [
    {
     "data": {
      "text/plain": [
       "array([[2],\n",
       "       ['tidak_lulus'],\n",
       "       ['rendah'],\n",
       "       ['kecil'],\n",
       "       ['pendek']], dtype=object)"
      ]
     },
     "execution_count": 138,
     "metadata": {},
     "output_type": "execute_result"
    }
   ],
   "source": [
    "data_test.reshape(-1,1)"
   ]
  },
  {
   "cell_type": "code",
   "execution_count": 146,
   "id": "ad3aadf4",
   "metadata": {},
   "outputs": [
    {
     "data": {
      "text/plain": [
       "array([[2, 'tidak_lulus', 'rendah', 'kecil', 'pendek']], dtype=object)"
      ]
     },
     "execution_count": 146,
     "metadata": {},
     "output_type": "execute_result"
    }
   ],
   "source": [
    "data_test.reshape(1,-1)"
   ]
  },
  {
   "cell_type": "code",
   "execution_count": null,
   "id": "1a1e3972",
   "metadata": {},
   "outputs": [],
   "source": []
  },
  {
   "cell_type": "code",
   "execution_count": null,
   "id": "d50ae3ac",
   "metadata": {},
   "outputs": [],
   "source": []
  },
  {
   "cell_type": "code",
   "execution_count": null,
   "id": "643a8d33",
   "metadata": {},
   "outputs": [],
   "source": []
  },
  {
   "cell_type": "code",
   "execution_count": 92,
   "id": "01bfae74",
   "metadata": {},
   "outputs": [],
   "source": [
    "# pembagian data training dan data testing\n",
    "x = mydata3.iloc[:, :-1]\n",
    "y = mydata3.iloc[:, -1]"
   ]
  },
  {
   "cell_type": "code",
   "execution_count": 93,
   "id": "92149de0",
   "metadata": {},
   "outputs": [
    {
     "data": {
      "text/plain": [
       "0    0\n",
       "1    2\n",
       "2    0\n",
       "3    1\n",
       "4    0\n",
       "5    2\n",
       "6    1\n",
       "7    1\n",
       "8    0\n",
       "9    0\n",
       "Name: target, dtype: int32"
      ]
     },
     "execution_count": 93,
     "metadata": {},
     "output_type": "execute_result"
    }
   ],
   "source": [
    "y"
   ]
  },
  {
   "cell_type": "code",
   "execution_count": 95,
   "id": "0eb16b02",
   "metadata": {},
   "outputs": [],
   "source": [
    "x_train, x_test, y_train, y_test = train_test_split(x,y, shuffle=False, test_size=0.1)"
   ]
  },
  {
   "cell_type": "code",
   "execution_count": 100,
   "id": "8cbbc3ca",
   "metadata": {},
   "outputs": [],
   "source": [
    "# model\n",
    "model = GaussianNB()"
   ]
  },
  {
   "cell_type": "code",
   "execution_count": 101,
   "id": "0ea8ade7",
   "metadata": {},
   "outputs": [
    {
     "data": {
      "text/plain": [
       "GaussianNB()"
      ]
     },
     "execution_count": 101,
     "metadata": {},
     "output_type": "execute_result"
    }
   ],
   "source": [
    "model.fit(x,y)"
   ]
  },
  {
   "cell_type": "code",
   "execution_count": null,
   "id": "41a450d4",
   "metadata": {},
   "outputs": [],
   "source": []
  },
  {
   "cell_type": "code",
   "execution_count": 103,
   "id": "5a20a22c",
   "metadata": {},
   "outputs": [
    {
     "data": {
      "text/plain": [
       "array([0], dtype=int32)"
      ]
     },
     "execution_count": 103,
     "metadata": {},
     "output_type": "execute_result"
    }
   ],
   "source": [
    "model.predict(x_test)"
   ]
  }
 ],
 "metadata": {
  "kernelspec": {
   "display_name": "Django Shell-Plus",
   "language": "python",
   "name": "django_extensions"
  },
  "language_info": {
   "codemirror_mode": {
    "name": "ipython",
    "version": 3
   },
   "file_extension": ".py",
   "mimetype": "text/x-python",
   "name": "python",
   "nbconvert_exporter": "python",
   "pygments_lexer": "ipython3",
   "version": "3.8.3"
  }
 },
 "nbformat": 4,
 "nbformat_minor": 5
}
