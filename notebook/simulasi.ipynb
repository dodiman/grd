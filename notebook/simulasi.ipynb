{
 "cells": [
  {
   "cell_type": "code",
   "execution_count": 1,
   "id": "15d022e0",
   "metadata": {},
   "outputs": [],
   "source": [
    "import os\n",
    "os.environ['DJANGO_ALLOW_ASYNC_UNSAFE'] = 'true'"
   ]
  },
  {
   "cell_type": "code",
   "execution_count": 15,
   "id": "f8f2500b",
   "metadata": {},
   "outputs": [],
   "source": [
    "import pandas as pd\n",
    "import numpy as np"
   ]
  },
  {
   "cell_type": "code",
   "execution_count": 2,
   "id": "0a7199fb",
   "metadata": {},
   "outputs": [],
   "source": [
    "from PIL import Image"
   ]
  },
  {
   "cell_type": "code",
   "execution_count": 8,
   "id": "cc152032",
   "metadata": {},
   "outputs": [],
   "source": [
    "from mydata.models import *"
   ]
  },
  {
   "cell_type": "code",
   "execution_count": 4,
   "id": "f306fad9",
   "metadata": {},
   "outputs": [],
   "source": [
    "from django.http import JsonResponse\n",
    "from django.core import serializers"
   ]
  },
  {
   "cell_type": "code",
   "execution_count": 9,
   "id": "f4b2dc6d",
   "metadata": {},
   "outputs": [],
   "source": [
    "db = DesaKelurahan.objects.all()\n",
    "kamus = DesaKelurahan.objects.values()\n",
    "anggota = Anggota.objects.all()\n",
    "foto = Foto.objects.all()"
   ]
  },
  {
   "cell_type": "code",
   "execution_count": null,
   "id": "f8e9bd79",
   "metadata": {},
   "outputs": [],
   "source": []
  },
  {
   "cell_type": "code",
   "execution_count": 14,
   "id": "a25fea08",
   "metadata": {},
   "outputs": [
    {
     "data": {
      "text/plain": [
       "<QuerySet [{'id': 12, 'keterangan': 'ksd', 'selfi': 'Dodiman_cni5BHY.jpg', 'ktp': 'Dodiman_XdTUQBV.jpg', 'diri': 'Dodiman_evjkLvk.jpg', 'anggota_id': 2}]>"
      ]
     },
     "execution_count": 14,
     "metadata": {},
     "output_type": "execute_result"
    }
   ],
   "source": [
    "Foto.objects.values()"
   ]
  },
  {
   "cell_type": "code",
   "execution_count": null,
   "id": "1c2585dc",
   "metadata": {},
   "outputs": [],
   "source": [
    "data_js = [value for value in kamus]"
   ]
  },
  {
   "cell_type": "code",
   "execution_count": null,
   "id": "afb9fc2d",
   "metadata": {},
   "outputs": [],
   "source": [
    "satu = JsonResponse(data_js, safe=False)\n",
    "satu = JsonResponse({'data_js': data_js})"
   ]
  },
  {
   "cell_type": "code",
   "execution_count": null,
   "id": "e1f2bd27",
   "metadata": {},
   "outputs": [],
   "source": [
    "satu"
   ]
  },
  {
   "cell_type": "code",
   "execution_count": null,
   "id": "6830ac92",
   "metadata": {},
   "outputs": [],
   "source": [
    "qs = DesaKelurahan.objects.all()\n",
    "qs_json = serializers.serialize('json', qs)\n"
   ]
  },
  {
   "cell_type": "markdown",
   "id": "73defb30",
   "metadata": {},
   "source": [
    "<h2>FILTER</H2>"
   ]
  },
  {
   "cell_type": "code",
   "execution_count": null,
   "id": "80b3ec2b",
   "metadata": {},
   "outputs": [],
   "source": [
    "# filter\n",
    "dataFilter = Anggota.objects.filter(alamat__startswith=\"KOMBELI\")"
   ]
  },
  {
   "cell_type": "code",
   "execution_count": null,
   "id": "c7e383e0",
   "metadata": {},
   "outputs": [],
   "source": []
  },
  {
   "cell_type": "code",
   "execution_count": null,
   "id": "0be4f99b",
   "metadata": {},
   "outputs": [],
   "source": [
    "dataFilter"
   ]
  },
  {
   "cell_type": "code",
   "execution_count": null,
   "id": "55511b5a",
   "metadata": {},
   "outputs": [],
   "source": [
    "anggota.values()"
   ]
  },
  {
   "cell_type": "code",
   "execution_count": null,
   "id": "29ec2a3f",
   "metadata": {},
   "outputs": [],
   "source": [
    "data_js"
   ]
  },
  {
   "cell_type": "code",
   "execution_count": null,
   "id": "cc3cd560",
   "metadata": {},
   "outputs": [],
   "source": [
    "qs_json"
   ]
  }
 ],
 "metadata": {
  "kernelspec": {
   "display_name": "Django Shell-Plus",
   "language": "python",
   "name": "django_extensions"
  },
  "language_info": {
   "codemirror_mode": {
    "name": "ipython",
    "version": 3
   },
   "file_extension": ".py",
   "mimetype": "text/x-python",
   "name": "python",
   "nbconvert_exporter": "python",
   "pygments_lexer": "ipython3",
   "version": "3.8.3"
  }
 },
 "nbformat": 4,
 "nbformat_minor": 5
}
